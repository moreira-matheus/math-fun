{
 "cells": [
  {
   "cell_type": "markdown",
   "metadata": {},
   "source": [
    "Source: [Numberphile](https://www.youtube.com/watch?v=pAMgUB51XZA)"
   ]
  },
  {
   "cell_type": "code",
   "execution_count": 1,
   "metadata": {},
   "outputs": [],
   "source": [
    "import matplotlib.pyplot as plt\n",
    "%matplotlib inline"
   ]
  },
  {
   "cell_type": "code",
   "execution_count": 2,
   "metadata": {},
   "outputs": [],
   "source": [
    "def euclidean_gcd(a, b):\n",
    "    while b:\n",
    "        a, b = b, a % b\n",
    "\n",
    "    return a"
   ]
  },
  {
   "cell_type": "code",
   "execution_count": 17,
   "metadata": {},
   "outputs": [],
   "source": [
    "def fly_sequence(n):\n",
    "    #print('>>> START... : ', n)\n",
    "    if n == 0 or n == 1:\n",
    "        #print('>>> END.')\n",
    "        return 1\n",
    "\n",
    "    prev = fly_sequence(n-1)\n",
    "    gcd = euclidean_gcd(n, prev)\n",
    "\n",
    "    if gcd == 1:\n",
    "        #print('>>> END.')\n",
    "        return prev + n + 1\n",
    "    \n",
    "    #print('>>> END.')\n",
    "    return prev // gcd"
   ]
  },
  {
   "cell_type": "code",
   "execution_count": 18,
   "metadata": {},
   "outputs": [],
   "source": [
    "N = 1500"
   ]
  },
  {
   "cell_type": "code",
   "execution_count": 5,
   "metadata": {},
   "outputs": [],
   "source": [
    "ys = [fly_sequence(n) for n in range(N)]"
   ]
  },
  {
   "cell_type": "code",
   "execution_count": 6,
   "metadata": {},
   "outputs": [
    {
     "data": {
      "text/plain": [
       "<matplotlib.collections.PathCollection at 0x18179937fd0>"
      ]
     },
     "execution_count": 6,
     "metadata": {},
     "output_type": "execute_result"
    },
    {
     "data": {
      "image/png": "[encoded data removed]",
      "text/plain": [
       "<Figure size 720x576 with 1 Axes>"
      ]
     },
     "metadata": {
      "needs_background": "light"
     },
     "output_type": "display_data"
    }
   ],
   "source": [
    "fig, ax = plt.subplots(figsize=(10,8))\n",
    "\n",
    "ax.scatter(range(N), ys)"
   ]
  },
  {
   "cell_type": "code",
   "execution_count": 21,
   "metadata": {},
   "outputs": [
    {
     "name": "stdout",
     "output_type": "stream",
     "text": [
      ">>> START... :  0\n",
      ">>> END.\n",
      "1\n",
      ">>> START... :  1\n",
      ">>> END.\n",
      "1\n",
      ">>> START... :  2\n",
      ">>> START... :  1\n",
      ">>> END.\n",
      ">>> END.\n",
      "4\n",
      ">>> START... :  3\n",
      ">>> START... :  2\n",
      ">>> START... :  1\n",
      ">>> END.\n",
      ">>> END.\n",
      ">>> END.\n",
      "8\n",
      ">>> START... :  4\n",
      ">>> START... :  3\n",
      ">>> START... :  2\n",
      ">>> START... :  1\n",
      ">>> END.\n",
      ">>> END.\n",
      ">>> END.\n",
      ">>> END.\n",
      "2\n",
      ">>> START... :  5\n",
      ">>> START... :  4\n",
      ">>> START... :  3\n",
      ">>> START... :  2\n",
      ">>> START... :  1\n",
      ">>> END.\n",
      ">>> END.\n",
      ">>> END.\n",
      ">>> END.\n",
      ">>> END.\n",
      "8\n",
      ">>> START... :  6\n",
      ">>> START... :  5\n",
      ">>> START... :  4\n",
      ">>> START... :  3\n",
      ">>> START... :  2\n",
      ">>> START... :  1\n",
      ">>> END.\n",
      ">>> END.\n",
      ">>> END.\n",
      ">>> END.\n",
      ">>> END.\n",
      ">>> END.\n",
      "4\n",
      ">>> START... :  7\n",
      ">>> START... :  6\n",
      ">>> START... :  5\n",
      ">>> START... :  4\n",
      ">>> START... :  3\n",
      ">>> START... :  2\n",
      ">>> START... :  1\n",
      ">>> END.\n",
      ">>> END.\n",
      ">>> END.\n",
      ">>> END.\n",
      ">>> END.\n",
      ">>> END.\n",
      ">>> END.\n",
      "12\n",
      ">>> START... :  8\n",
      ">>> START... :  7\n",
      ">>> START... :  6\n",
      ">>> START... :  5\n",
      ">>> START... :  4\n",
      ">>> START... :  3\n",
      ">>> START... :  2\n",
      ">>> START... :  1\n",
      ">>> END.\n",
      ">>> END.\n",
      ">>> END.\n",
      ">>> END.\n",
      ">>> END.\n",
      ">>> END.\n",
      ">>> END.\n",
      ">>> END.\n",
      "3\n",
      ">>> START... :  9\n",
      ">>> START... :  8\n",
      ">>> START... :  7\n",
      ">>> START... :  6\n",
      ">>> START... :  5\n",
      ">>> START... :  4\n",
      ">>> START... :  3\n",
      ">>> START... :  2\n",
      ">>> START... :  1\n",
      ">>> END.\n",
      ">>> END.\n",
      ">>> END.\n",
      ">>> END.\n",
      ">>> END.\n",
      ">>> END.\n",
      ">>> END.\n",
      ">>> END.\n",
      ">>> END.\n",
      "1\n"
     ]
    }
   ],
   "source": [
    "for i in range(10):\n",
    "    print(fly_sequence(i))"
   ]
  },
  {
   "cell_type": "code",
   "execution_count": null,
   "metadata": {},
   "outputs": [],
   "source": []
  }
 ],
 "metadata": {
  "kernelspec": {
   "display_name": "Python 3",
   "language": "python",
   "name": "python3"
  },
  "language_info": {
   "codemirror_mode": {
    "name": "ipython",
    "version": 3
   },
   "file_extension": ".py",
   "mimetype": "text/x-python",
   "name": "python",
   "nbconvert_exporter": "python",
   "pygments_lexer": "ipython3",
   "version": "3.7.3"
  }
 },
 "nbformat": 4,
 "nbformat_minor": 2
}
