{
 "cells": [
  {
   "cell_type": "code",
   "execution_count": 120,
   "metadata": {},
   "outputs": [],
   "source": [
    "import numpy as np\n",
    "import matplotlib.pyplot as plt\n",
    "from itertools import product"
   ]
  },
  {
   "cell_type": "code",
   "execution_count": 121,
   "metadata": {},
   "outputs": [],
   "source": [
    "directions = {'N': np.array([0,1]), 'S': np.array([0,-1]),\n",
    "              'E': np.array([1,0]), 'W': np.array([-1,0]),\n",
    "              'NE': np.array([1,1]), 'NW': np.array([-1,1]),\n",
    "              'SE': np.array([1,-1]), 'SW': np.array([-1,-1])}"
   ]
  },
  {
   "cell_type": "code",
   "execution_count": 122,
   "metadata": {},
   "outputs": [],
   "source": [
    "class Walker:\n",
    "    def __init__(self, S0, dS, j=1):\n",
    "        self.steps = [S0]\n",
    "        self.step_size = dS\n",
    "        self.judgement = j\n",
    "\n",
    "    def update_position(self, R1, R2, enemy_pos=None):\n",
    "        if enemy_pos is None:\n",
    "            next_step = self.__calculate_next_step(R1, R2)\n",
    "        else:\n",
    "            next_step = self.__calculate_next_step_with_enemy(R1, R2, enemy_pos)\n",
    "\n",
    "        self.steps.append(next_step)\n",
    "\n",
    "    def __calculate_next_step(self, R1, R2):\n",
    "        assert R1.shape == self.steps[0].shape and R2.shape == self.steps[0].shape\n",
    "        \n",
    "        steps = [self.steps[-1] + self.step_size * d for d in directions.values()]\n",
    "        errs = [np.mean([np.linalg.norm(step - R1), np.linalg.norm(step - R2)])\n",
    "                for step in steps]\n",
    "        idx = np.array(errs).argmin()\n",
    "        \n",
    "        return steps[idx]\n",
    "    \n",
    "    def __calculate_next_step_with_enemy(self, R1, R2, enemy_pos):\n",
    "        assert R1.shape == self.steps[0].shape \\\n",
    "               and R2.shape == self.steps[0].shape \\\n",
    "               and enemy_pos.shape == self.steps[0].shape\n",
    "        \n",
    "        steps = [self.steps[-1] + self.step_size * d for d in directions.values()]\n",
    "        errs = [np.average(a=[np.linalg.norm(step - R1),\n",
    "                              np.linalg.norm(step - R2),\n",
    "                              -np.linalg.norm(step-enemy_pos)],\n",
    "                           weights=[1, 1, self.judgement])\n",
    "                for step in steps]\n",
    "        idx = np.array(errs).argmin()\n",
    "        \n",
    "        return steps[idx]"
   ]
  },
  {
   "cell_type": "code",
   "execution_count": 123,
   "metadata": {},
   "outputs": [],
   "source": [
    "Refs = list(product([0,1], repeat=2))\n",
    "r1, r2 = np.random.choice(len(Refs), size=2, replace=False)\n",
    "Ref1, Ref2 = np.array(Refs[r1]), np.array(Refs[r2])"
   ]
  },
  {
   "cell_type": "code",
   "execution_count": 124,
   "metadata": {},
   "outputs": [],
   "source": [
    "w1 = Walker(S0=np.random.uniform(size=2), dS=0.02, j=1.0)\n",
    "w2 = Walker(S0=np.random.uniform(size=2), dS=0.025, j=1.1)"
   ]
  },
  {
   "cell_type": "code",
   "execution_count": 125,
   "metadata": {},
   "outputs": [],
   "source": [
    "T = 100000\n",
    "\n",
    "for _ in range(T):\n",
    "    w1_pos = w1.steps[-1]\n",
    "    w2_pos = w2.steps[-1]\n",
    "\n",
    "    w1.update_position(Ref1, Ref2, enemy_pos=w2_pos)\n",
    "    w2.update_position(Ref1, Ref2, enemy_pos=w1_pos)"
   ]
  },
  {
   "cell_type": "code",
   "execution_count": 126,
   "metadata": {},
   "outputs": [],
   "source": [
    "ref_tweaks = {'s': 100}\n",
    "w1_tweaks = {'color': 'red', 's': 64}\n",
    "w2_tweaks = {'color': 'blue', 's': 64}"
   ]
  },
  {
   "cell_type": "code",
   "execution_count": 127,
   "metadata": {},
   "outputs": [
    {
     "data": {
      "image/png": "[encoded data removed]",
      "text/plain": [
       "<Figure size 576x576 with 1 Axes>"
      ]
     },
     "metadata": {
      "needs_background": "light"
     },
     "output_type": "display_data"
    }
   ],
   "source": [
    "fig, ax = plt.subplots(figsize=(8,8))\n",
    "\n",
    "ax.scatter(*Ref1, color='k', **ref_tweaks)\n",
    "ax.scatter(*Ref2, color='k', **ref_tweaks)\n",
    "\n",
    "xs, ys = zip(*w1.steps)\n",
    "ax.scatter(*w1.steps[0], **w1_tweaks)\n",
    "ax.plot(xs, ys, color='red')\n",
    "\n",
    "xs, ys = zip(*w2.steps)\n",
    "ax.scatter(*w2.steps[0], **w2_tweaks)\n",
    "ax.plot(xs, ys, color='blue')\n",
    "\n",
    "ax.axis('equal')\n",
    "#ax.set_ylim([-0.1, 1.1])\n",
    "#ax.set_xlim([-0.1, 1.1])\n",
    "\n",
    "plt.show()"
   ]
  }
 ],
 "metadata": {
  "kernelspec": {
   "display_name": "Python 3",
   "language": "python",
   "name": "python3"
  },
  "language_info": {
   "codemirror_mode": {
    "name": "ipython",
    "version": 3
   },
   "file_extension": ".py",
   "mimetype": "text/x-python",
   "name": "python",
   "nbconvert_exporter": "python",
   "pygments_lexer": "ipython3",
   "version": "3.7.3"
  }
 },
 "nbformat": 4,
 "nbformat_minor": 2
}
