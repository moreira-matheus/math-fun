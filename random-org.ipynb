{
 "cells": [
  {
   "cell_type": "markdown",
   "metadata": {},
   "source": [
    "### [Random.org](https://www.random.org/)"
   ]
  },
  {
   "cell_type": "code",
   "execution_count": 1,
   "metadata": {},
   "outputs": [],
   "source": [
    "import requests\n",
    "from lxml import html"
   ]
  },
  {
   "cell_type": "code",
   "execution_count": 2,
   "metadata": {},
   "outputs": [],
   "source": [
    "def roll_dice(ndice, nrolls):\n",
    "    url = 'https://www.random.org/dice/?num={}'.format(ndice)\n",
    "    xpath = '//*[@id=\"invisible\"]/p[2]/img/@alt'\n",
    "\n",
    "    for _ in range(nrolls):\n",
    "        response = html.fromstring(requests.get(url).content)\n",
    "        rolls = [int(roll) for roll in response.xpath(xpath)]\n",
    "        yield tuple(rolls)"
   ]
  },
  {
   "cell_type": "code",
   "execution_count": 3,
   "metadata": {},
   "outputs": [
    {
     "name": "stdout",
     "output_type": "stream",
     "text": [
      "(1, 6, 5)\n",
      "(5, 3, 5)\n",
      "(3, 1, 1)\n",
      "(5, 5, 4)\n",
      "(1, 5, 6)\n"
     ]
    }
   ],
   "source": [
    "for n in roll_dice(ndice=3, nrolls=5):\n",
    "    print(n)"
   ]
  },
  {
   "cell_type": "code",
   "execution_count": 4,
   "metadata": {},
   "outputs": [],
   "source": [
    "def flip_coins(ncoins, nflips):\n",
    "    url = 'https://www.random.org/coins/?num={}&cur=60-brl.1real'.format(ncoins)\n",
    "    xpath = '//*[@id=\"invisible\"]/p[2]/img/@alt'\n",
    "    mapper = {'obverse': 'H', 'reverse': 'T'}\n",
    "    \n",
    "    for _ in range(nflips):\n",
    "        response = html.fromstring(requests.get(url).content)\n",
    "        flips = [mapper[flip] for flip in response.xpath(xpath)]\n",
    "        yield tuple(flips)"
   ]
  },
  {
   "cell_type": "code",
   "execution_count": 6,
   "metadata": {},
   "outputs": [
    {
     "name": "stdout",
     "output_type": "stream",
     "text": [
      "('H', 'H', 'T')\n",
      "('T', 'H', 'H')\n",
      "('H', 'H', 'T')\n",
      "('H', 'H', 'T')\n",
      "('H', 'H', 'H')\n",
      "('H', 'H', 'H')\n",
      "('T', 'T', 'H')\n"
     ]
    }
   ],
   "source": [
    "for c in flip_coins(ncoins=3, nflips=7):\n",
    "    print(c)"
   ]
  }
 ],
 "metadata": {
  "kernelspec": {
   "display_name": "Python 3",
   "language": "python",
   "name": "python3"
  },
  "language_info": {
   "codemirror_mode": {
    "name": "ipython",
    "version": 3
   },
   "file_extension": ".py",
   "mimetype": "text/x-python",
   "name": "python",
   "nbconvert_exporter": "python",
   "pygments_lexer": "ipython3",
   "version": "3.7.3"
  }
 },
 "nbformat": 4,
 "nbformat_minor": 2
}
